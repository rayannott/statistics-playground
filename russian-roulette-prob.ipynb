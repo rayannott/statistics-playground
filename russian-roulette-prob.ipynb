{
 "cells": [
  {
   "cell_type": "markdown",
   "metadata": {},
   "source": [
    "# Russian Roulette Problem\n",
    "\n",
    "Two players, **A** and **B**, play Russian roulette as follows:  \n",
    "- A revolver contains exactly one bullet in its six chambers.  \n",
    "- On each turn, the current player spins the cylinder (randomly shuffling the bullet’s position) and then pulls the trigger.  \n",
    "- The probability of dying on any given turn is $ p = 1/6 $ .  \n",
    "- Players take turns in sequence, starting with Player **A**.  \n",
    "- The game continues until one player dies, at which point the surviving player wins.  \n",
    "\n",
    "What is the probability that Player **A** wins the game?\n"
   ]
  },
  {
   "cell_type": "markdown",
   "metadata": {},
   "source": [
    "Let us simulate this to approximate $\\mathbb{P}(\\text{A wins})$."
   ]
  },
  {
   "cell_type": "code",
   "execution_count": null,
   "metadata": {},
   "outputs": [
    {
     "data": {
      "text/plain": [
       "0.454022"
      ]
     },
     "execution_count": 1,
     "metadata": {},
     "output_type": "execute_result"
    }
   ],
   "source": [
    "import random\n",
    "\n",
    "\n",
    "def simulate_game():\n",
    "    \"\"\"Simulate one game of Russian roulette and return True if Player A wins, False if Player B wins.\"\"\"\n",
    "    turn = 0  # 0 for A, 1 for B\n",
    "    while True:\n",
    "        if random.randint(1, 6) == 1:\n",
    "            return turn == 1  # A wins if it's B's turn, and vice versa\n",
    "        turn = 1 - turn  # Switch turns\n",
    "\n",
    "\n",
    "def estimate_probability(n_simulations):\n",
    "    \"\"\"Estimate the probability that Player A wins by running multiple simulations.\"\"\"\n",
    "    a_wins = sum(simulate_game() for _ in range(n_simulations))\n",
    "    return a_wins / n_simulations\n",
    "\n",
    "\n",
    "estimate_probability(1_000_000)"
   ]
  },
  {
   "cell_type": "markdown",
   "metadata": {},
   "source": [
    "## Derivation\n",
    "\n",
    "Let $P_A$ and $P_B$ be the probability for the players A and B to win, respectively.\n",
    "\n",
    "The player A\n",
    "- can win right away: if they do not die on their first turn ($(1-p)$) and then the player B dies ($p$)\n",
    "- can win with the probability $P_A$ on their second turn: if both A and B do not die on their first turns ($(1-p)^2$)\n",
    "$$\n",
    "P_A = (1-p)\\cdot p + (1-p)^2 \\cdot P_A\n",
    "$$\n",
    "\n",
    "Then, solving for $P_A$,\n",
    "$$\n",
    "P_A = \\frac{1-p}{2-p}.\n",
    "$$\n",
    "\n",
    "$$\n",
    "P_A\\big|_{p=1/6} = \\frac{5}{11}.\n",
    "$$\n",
    "\n",
    "Also note that\n",
    "$$\n",
    "\\begin{align*}\n",
    "P_A\\big|_{p=0} &= \\frac{1}{2} \\\\\n",
    "P_A\\big|_{p=1} &= 0\n",
    "\\end{align*}\n",
    "$$"
   ]
  },
  {
   "cell_type": "markdown",
   "metadata": {},
   "source": [
    "### Alternative derivation\n",
    "\n",
    "Instead of stopping at the second **A**'s turn and noticing the tricky recursion we could realize that \n",
    "$$\n",
    "P_A=1-P_B =: \\bar{P}_B\n",
    "$$\n",
    "and consider all ways for **B** to lose.\n",
    "\n",
    "To start with, for the player **B** to die on their $k$-th turn, \n",
    "- there must be $2k-1$ turns when no one dies and\n",
    "- then **B** must die.\n",
    "$$\n",
    "\\bar{P}_B^{(k)} := \\mathbb{P}(B\\text{ dies on their } k \\text{-th turn}) = (1-p)^{2k-1} \\cdot p, \\;\\;\\; k\\in\\mathbb{N}.\n",
    "$$\n",
    "\n",
    "For **B** to lose they should die on any turn:\n",
    "$$\n",
    "\\begin{align*} \n",
    "\\bar{P}_B &= \\sum_{k\\in\\mathbb{N}} \\bar{P}_B^{(k)} = p \\sum_{k=1}^{\\infty} (1-p)^{2k-1} = \\frac{p}{1-p} \\sum_{k=1}^{\\infty} \\left((1-p)^2\\right)^k \\\\\n",
    "&= \\frac{p}{1-p} \\left(\\frac{1}{1 - (1-p)^2} - 1\\right) = \\frac{1-p}{2-p} = P_A.\n",
    "\\end{align*} \n",
    "$$"
   ]
  },
  {
   "cell_type": "code",
   "execution_count": null,
   "metadata": {},
   "outputs": [],
   "source": []
  }
 ],
 "metadata": {
  "kernelspec": {
   "display_name": "thevenv",
   "language": "python",
   "name": "python3"
  },
  "language_info": {
   "codemirror_mode": {
    "name": "ipython",
    "version": 3
   },
   "file_extension": ".py",
   "mimetype": "text/x-python",
   "name": "python",
   "nbconvert_exporter": "python",
   "pygments_lexer": "ipython3",
   "version": "3.11.3"
  }
 },
 "nbformat": 4,
 "nbformat_minor": 2
}
