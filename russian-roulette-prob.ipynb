{
 "cells": [
  {
   "cell_type": "markdown",
   "metadata": {},
   "source": [
    "# Russian Roulette Problem\n",
    "\n",
    "Two players, **A** and **B**, play Russian roulette as follows:  \n",
    "- A revolver contains exactly one bullet in its six chambers.  \n",
    "- On each turn, the current player spins the cylinder (randomly shuffling the bullet’s position) and then pulls the trigger.  \n",
    "- The probability of dying on any given turn is \\( \\frac{1}{6} \\).  \n",
    "- Players take turns in sequence, starting with Player **A**.  \n",
    "- The game continues until one player dies, at which point the surviving player wins.  \n",
    "\n",
    "What is the probability that Player **A** wins the game?\n"
   ]
  },
  {
   "cell_type": "markdown",
   "metadata": {},
   "source": [
    "Let us simulate this to approximate $\\mathbb{P}(\\text{A wins})$."
   ]
  },
  {
   "cell_type": "code",
   "execution_count": 1,
   "metadata": {},
   "outputs": [
    {
     "data": {
      "text/plain": [
       "0.454022"
      ]
     },
     "execution_count": 1,
     "metadata": {},
     "output_type": "execute_result"
    }
   ],
   "source": [
    "import random\n",
    "\n",
    "\n",
    "def simulate_game():\n",
    "    \"\"\"Simulate one game of Russian roulette and return True if Player A wins, False if Player B wins.\"\"\"\n",
    "    turn = 0  # 0 for A, 1 for B\n",
    "    while True:\n",
    "        if random.randint(1, 6) == 1:\n",
    "            return turn == 1  # A wins if it's B's turn, and vice versa\n",
    "        turn = 1 - turn  # Switch turns\n",
    "\n",
    "\n",
    "def estimate_probability(n_simulations):\n",
    "    \"\"\"Estimate the probability that Player A wins by running multiple simulations.\"\"\"\n",
    "    a_wins = sum(simulate_game() for _ in range(n_simulations))\n",
    "    return a_wins / n_simulations\n",
    "\n",
    "\n",
    "estimate_probability(1_000_000)"
   ]
  },
  {
   "cell_type": "markdown",
   "metadata": {},
   "source": [
    "## Derivation\n",
    "\n",
    "<!-- TODO -->"
   ]
  }
 ],
 "metadata": {
  "kernelspec": {
   "display_name": "thevenv",
   "language": "python",
   "name": "python3"
  },
  "language_info": {
   "codemirror_mode": {
    "name": "ipython",
    "version": 3
   },
   "file_extension": ".py",
   "mimetype": "text/x-python",
   "name": "python",
   "nbconvert_exporter": "python",
   "pygments_lexer": "ipython3",
   "version": "3.13.0"
  }
 },
 "nbformat": 4,
 "nbformat_minor": 2
}
