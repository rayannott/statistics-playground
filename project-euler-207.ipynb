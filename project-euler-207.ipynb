{
 "cells": [
  {
   "cell_type": "markdown",
   "metadata": {},
   "source": [
    "https://projecteuler.net/problem=207"
   ]
  },
  {
   "cell_type": "markdown",
   "metadata": {},
   "source": [
    "$$4^t = 2^t + k$$\n",
    "\n",
    "Let $q:=2^t$. Then we obtain a quadradic equation $q^2 - q - k = 0$, with the only allowed positive $q=\\frac{1}{2} (1 + \\sqrt{1 + 4k})$.\n",
    "\n",
    "For this value to be an integer we require that $(1 + \\sqrt{1 + 4k})$ is an even integer; hence, $1+4k$ should be a perfect square of an odd number:\n",
    "$$\n",
    "1 + 4k = (2n + 1)^2,\n",
    "$$\n",
    "from where we get that $k = n(n+1)$.\n",
    "\n",
    "Given $k\\leq m$ we obtain the condition on $n$:\n",
    "$$\n",
    "\\begin{align*}\n",
    "& n(n+1) \\leq m \\\\\n",
    "& 1 \\leq n \\leq \\left\\lfloor\\frac{\\sqrt{1+4m} - 1}{2}\\right\\rfloor =: T(m).\n",
    "\\end{align*}\n",
    "$$\n",
    "Here $T(m)$ counts the number of integer partitions with $k\\leq m$."
   ]
  },
  {
   "cell_type": "markdown",
   "metadata": {},
   "source": [
    "Now, let us count the **perfect** integer partitions with $k \\leq m$. For this, we require that $q$ is a power of two.\n",
    "\n",
    "Since perfect integer partitions must be integer partitions, we take $k = n(n+1)$.\n",
    "$$\n",
    "q = \\frac{1}{2} (1 + \\sqrt{1 + 4k}) |_{k = n(n+1)} = 1 + n.\n",
    "$$\n",
    "Hence, $n = 2^l - 1$, and then $k = 2^l (2^l - 1)$.\n",
    "\n",
    "Now, in order to to count the perfect integer partitions with $k \\leq m$, we solve\n",
    "$$\n",
    "\\begin{align*}\n",
    "&2^l (2^l - 1) \\leq m \\\\\n",
    "& 1 \\leq l \\leq \\left\\lfloor \\log_2{(1 + \\sqrt{1 + 4m})} - 1 \\right\\rfloor =: B(m),\n",
    "\\end{align*}\n",
    "$$\n",
    "with $B(m)$ — the number of perfect integer partitions with $k\\leq m$."
   ]
  },
  {
   "cell_type": "markdown",
   "metadata": {},
   "source": [
    "Then,\n",
    "$$\n",
    "P(m) = \\frac{T(m)}{B(m)}.\n",
    "$$"
   ]
  },
  {
   "cell_type": "code",
   "execution_count": 1,
   "metadata": {},
   "outputs": [
    {
     "name": "stdout",
     "output_type": "stream",
     "text": [
      "5 True 1.0 1\n",
      "10 True 0.5 0.5\n",
      "15 True 0.6666666666666666 0.6666666666666666\n",
      "20 True 0.5 0.5\n",
      "25 True 0.5 0.5\n",
      "30 True 0.4 0.4\n",
      "180 True 0.25 0.25\n",
      "185 True 0.23076923076923078 0.23076923076923078\n"
     ]
    }
   ],
   "source": [
    "import math\n",
    "\n",
    "\n",
    "def portion_perfect_partitions(M: int) -> float:\n",
    "    return math.floor(math.log2(1 + math.sqrt(1 + 4 * M)) - 1) / math.floor(\n",
    "        (math.sqrt(1 + 4 * M) - 1) / 2\n",
    "    )\n",
    "\n",
    "\n",
    "M_VALUES = [5, 10, 15, 20, 25, 30, 180, 185]\n",
    "TRUE_P_VALUES = [1, 1 / 2, 2 / 3, 1 / 2, 1 / 2, 2 / 5, 1 / 4, 3 / 13]\n",
    "\n",
    "for m_v, p_true in zip(M_VALUES, TRUE_P_VALUES):\n",
    "    p_formula = portion_perfect_partitions(m_v)\n",
    "    print(m_v, math.isclose(p_formula, p_true), p_formula, p_true)"
   ]
  },
  {
   "cell_type": "markdown",
   "metadata": {},
   "source": [
    "The brute force approach would fail now since $P(m)$ decreases **very** slowly.\n",
    "\n",
    "Let\n",
    "$$\n",
    "P^*(n) = P(n(n+1)) = \\frac{\\left\\lfloor \\log_2{(1 + n)} \\right\\rfloor}{n}.\n",
    "$$\n",
    "\n",
    "We could already run a brute force on this (try values of $n\\in\\mathbb{N}$) until the condition is satisfied, but there is a better way!\n",
    "\n",
    "In order to get the sense on the size of $n$, we substitute further $n = 2^l - 1$:\n",
    "$$\n",
    "P^{**}(l) = P^*(2^l - 1) = \\frac{l}{2^l - 1}.\n",
    "$$\n",
    "Here, one could use Lambert functions ($W(x) := f^{-1}(x)$ for $f(x)=xe^x$), or just brute force this and find that the smallest $l^*$ such that $P^{**}(l^*) < 1/12345$ is $l^* = 18$."
   ]
  },
  {
   "cell_type": "code",
   "execution_count": 2,
   "metadata": {},
   "outputs": [
    {
     "name": "stdout",
     "output_type": "stream",
     "text": [
      "18\n"
     ]
    }
   ],
   "source": [
    "l_star = 1\n",
    "while l_star / (2**l_star - 1) >= 1 / 12345:\n",
    "    l_star += 1\n",
    "print(l_star)"
   ]
  },
  {
   "cell_type": "markdown",
   "metadata": {},
   "source": [
    "Then, \n",
    "$$\n",
    "n^*\\in[2^{17}-1, 2^{18}-1]=:I,\n",
    "$$\n",
    "where $n^*$ is the smallest $n$ such that $P^*(n) < 1/12345$.\n",
    "\n",
    "Let is now find the only zero of the function\n",
    "$$\n",
    "F(n) := 1/12345 - P^*(n)\n",
    "$$\n",
    "on $I$ using interval bisection."
   ]
  },
  {
   "cell_type": "code",
   "execution_count": 3,
   "metadata": {},
   "outputs": [],
   "source": [
    "def p_star(n: int) -> float:\n",
    "    return math.floor(math.log2(1 + n)) / n\n",
    "\n",
    "\n",
    "def f(n: int) -> float:\n",
    "    return 1 / 12345 - p_star(n)\n",
    "\n",
    "\n",
    "def find_n(a: int, b: int) -> int:\n",
    "    mid = (a + b) // 2\n",
    "    mid_val = f(mid)\n",
    "    if mid_val == 0 or a == b:\n",
    "        return mid\n",
    "    elif mid_val > 0:\n",
    "        return find_n(a, mid)\n",
    "    else:\n",
    "        return find_n(mid, b)\n"
   ]
  },
  {
   "cell_type": "code",
   "execution_count": 4,
   "metadata": {},
   "outputs": [
    {
     "data": {
      "text/plain": [
       "209866"
      ]
     },
     "execution_count": 4,
     "metadata": {},
     "output_type": "execute_result"
    }
   ],
   "source": [
    "n_star = find_n(2**17 - 1, 2**18 - 1) + 1\n",
    "n_star"
   ]
  },
  {
   "cell_type": "code",
   "execution_count": null,
   "metadata": {},
   "outputs": [
    {
     "data": {
      "text/plain": [
       "(-3.8598547270993645e-10, 0.0, 3.8598179432367333e-10)"
      ]
     },
     "execution_count": 5,
     "metadata": {},
     "output_type": "execute_result"
    }
   ],
   "source": [
    "# f(n_star) > 0 and f(n_star - 1) <= 0\n",
    "f(n_star - 2), f(n_star - 1), f(n_star)"
   ]
  },
  {
   "cell_type": "markdown",
   "metadata": {},
   "source": [
    "Then, $m^* = n^* (n^* + 1)$."
   ]
  },
  {
   "cell_type": "code",
   "execution_count": 6,
   "metadata": {},
   "outputs": [
    {
     "data": {
      "text/plain": [
       "44043947822"
      ]
     },
     "execution_count": 6,
     "metadata": {},
     "output_type": "execute_result"
    }
   ],
   "source": [
    "m_star = n_star * (n_star + 1)\n",
    "m_star"
   ]
  }
 ],
 "metadata": {
  "kernelspec": {
   "display_name": "torchvenv",
   "language": "python",
   "name": "python3"
  },
  "language_info": {
   "codemirror_mode": {
    "name": "ipython",
    "version": 3
   },
   "file_extension": ".py",
   "mimetype": "text/x-python",
   "name": "python",
   "nbconvert_exporter": "python",
   "pygments_lexer": "ipython3",
   "version": "3.12.1"
  }
 },
 "nbformat": 4,
 "nbformat_minor": 2
}
