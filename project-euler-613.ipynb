{
 "cells": [
  {
   "cell_type": "markdown",
   "metadata": {},
   "source": [
    "https://projecteuler.net/problem=613"
   ]
  },
  {
   "cell_type": "markdown",
   "metadata": {},
   "source": [
    "<!-- insert image images/project-euler-613.jpg -->\n",
    "\n",
    "My solution\n",
    "\n",
    "<img src=\"images/project-euler-613.jpg\" alt=\"solution\" width=\"60%\"/>"
   ]
  },
  {
   "cell_type": "code",
   "execution_count": null,
   "metadata": {},
   "outputs": [],
   "source": [
    "import random\n",
    "import math\n",
    "\n",
    "\n",
    "def pick_random_point():\n",
    "    while True:\n",
    "        x = random.uniform(0, 4)\n",
    "        y = random.uniform(0, 3)\n",
    "        if y < 3 - 0.75 * x:\n",
    "            return x, y"
   ]
  },
  {
   "cell_type": "code",
   "execution_count": null,
   "metadata": {},
   "outputs": [],
   "source": [
    "s = 0\n",
    "\n",
    "N = int(1e7)\n",
    "\n",
    "for _ in range(N):\n",
    "    x, y = pick_random_point()\n",
    "    s += 3/4 - math.atan((4 - x) / y) / 2 / math.pi - math.atan((3 - y) / x) / 2 / math.pi\n",
    "\n",
    "s / N"
   ]
  },
  {
   "cell_type": "code",
   "execution_count": null,
   "metadata": {},
   "outputs": [],
   "source": []
  },
  {
   "cell_type": "markdown",
   "metadata": {},
   "source": [
    "Set up the integration"
   ]
  },
  {
   "cell_type": "code",
   "execution_count": null,
   "metadata": {},
   "outputs": [],
   "source": [
    "import sympy as sp\n",
    "\n",
    "x, y = sp.symbols(r'x y')\n",
    "pi = sp.pi"
   ]
  },
  {
   "cell_type": "code",
   "execution_count": null,
   "metadata": {},
   "outputs": [],
   "source": [
    "p_alpha = (\n",
    "    sp.Rational(3, 4)\n",
    "    - sp.atan((3 - y) / (4 - x)) / (2 * pi)\n",
    "    - sp.atan(x / y) / (2 * pi)\n",
    ")\n",
    "p_alpha"
   ]
  },
  {
   "cell_type": "code",
   "execution_count": null,
   "metadata": {},
   "outputs": [],
   "source": [
    "val = sp.integrate(p_alpha, (y, 0, sp.Rational(3, 4) * x), (x, 0, 4))\n",
    "val"
   ]
  },
  {
   "cell_type": "code",
   "execution_count": null,
   "metadata": {},
   "outputs": [],
   "source": [
    "round(float(val) / 6, 10)  # divide by the area of the rectangle A = 1/2 * 4 * 3 = 6"
   ]
  }
 ],
 "metadata": {
  "kernelspec": {
   "display_name": "Python 3",
   "language": "python",
   "name": "python3"
  },
  "language_info": {
   "codemirror_mode": {
    "name": "ipython",
    "version": 3
   },
   "file_extension": ".py",
   "mimetype": "text/x-python",
   "name": "python",
   "nbconvert_exporter": "python",
   "pygments_lexer": "ipython3",
   "version": "3.11.2"
  }
 },
 "nbformat": 4,
 "nbformat_minor": 2
}
