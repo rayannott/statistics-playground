{
 "cells": [
  {
   "cell_type": "markdown",
   "metadata": {},
   "source": [
    "# The antiderivative of $x^2$\n",
    "\n",
    "Show using [the definition of the Riemann integral](https://en.wikipedia.org/wiki/Riemann_integral) that\n",
    "$$\n",
    "\\int_0^x t^2\\,dt = \\frac{1}{3}x^3.\n",
    "$$"
   ]
  },
  {
   "cell_type": "markdown",
   "metadata": {},
   "source": [
    "Split the interval $[0, x]$ into $N$ equal sections of width $h := \\frac{x}{N}$.\n",
    "\n",
    "Then, \n",
    "$$\n",
    "\\begin{align*}\n",
    "\\int_0^x t^2\\,dt &= \\lim_{N \\rightarrow \\infty} \\sum_{i=1}^N h \\cdot (ih)^2 = \\lim_{N \\rightarrow \\infty} \\frac{x^3}{N^3} \\sum_{i=1}^N i^2 = x^3 \\lim_{N \\rightarrow \\infty} \\frac{1}{N^3} \\sum_{i=1}^N i^2 \\\\\n",
    "&= x^3 \\lim_{N \\rightarrow \\infty} \\frac{1}{N^3} \\frac{N(N+1)(2N+1)}{6} = x^3 \\lim_{N \\rightarrow \\infty} \\frac{2N^3+3N^2+N}{6N^3} = \\\\\n",
    "&= x^3 \\lim_{N \\rightarrow \\infty} \\left(\\frac{1}{3} + \\frac{1}{2N} + \\frac{1}{N^2} \\right) = \\frac{x^3}{3}.\n",
    "\\end{align*}\n",
    "$$"
   ]
  },
  {
   "cell_type": "code",
   "execution_count": 1,
   "metadata": {},
   "outputs": [],
   "source": [
    "# TODO numerical derivative; (Riemann sum - integral value) dependence on N"
   ]
  }
 ],
 "metadata": {
  "kernelspec": {
   "display_name": "thevenv",
   "language": "python",
   "name": "python3"
  },
  "language_info": {
   "codemirror_mode": {
    "name": "ipython",
    "version": 3
   },
   "file_extension": ".py",
   "mimetype": "text/x-python",
   "name": "python",
   "nbconvert_exporter": "python",
   "pygments_lexer": "ipython3",
   "version": "3.11.3"
  }
 },
 "nbformat": 4,
 "nbformat_minor": 2
}
