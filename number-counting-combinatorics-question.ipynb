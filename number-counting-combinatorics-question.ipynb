{
 "cells": [
  {
   "cell_type": "markdown",
   "metadata": {},
   "source": [
    "# Number Counting Combinatorics\n",
    "\n",
    "How many 6-digit numbers are there such that\n",
    "1. the digits are distinct;\n",
    "2. the number is divisible by 4;\n",
    "3. the even digits are not adjacent?"
   ]
  },
  {
   "cell_type": "code",
   "execution_count": 1,
   "metadata": {},
   "outputs": [
    {
     "data": {
      "text/plain": [
       "7440"
      ]
     },
     "execution_count": 1,
     "metadata": {},
     "output_type": "execute_result"
    }
   ],
   "source": [
    "from itertools import permutations, pairwise\n",
    "\n",
    "DIGITS = list(range(10))\n",
    "\n",
    "\n",
    "def ok(number) -> bool:\n",
    "    if number[0] == 0:\n",
    "        return False\n",
    "    if (number[-2] * 10 + number[-1]) % 4 != 0:\n",
    "        return False\n",
    "    for d1, d2 in pairwise(number):\n",
    "        if (d1 % 2) == (d2 % 2) == 0:\n",
    "            return False\n",
    "    return True\n",
    "\n",
    "\n",
    "sum(ok(number) for number in permutations(DIGITS, r=6))\n"
   ]
  },
  {
   "cell_type": "markdown",
   "metadata": {},
   "source": [
    "## Deriavation (Combinatorics)\n",
    "\n",
    "<!-- TODO -->"
   ]
  }
 ],
 "metadata": {
  "kernelspec": {
   "display_name": "thevenv",
   "language": "python",
   "name": "python3"
  },
  "language_info": {
   "codemirror_mode": {
    "name": "ipython",
    "version": 3
   },
   "file_extension": ".py",
   "mimetype": "text/x-python",
   "name": "python",
   "nbconvert_exporter": "python",
   "pygments_lexer": "ipython3",
   "version": "3.13.0"
  }
 },
 "nbformat": 4,
 "nbformat_minor": 2
}
