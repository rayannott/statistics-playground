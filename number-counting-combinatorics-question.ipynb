{
 "cells": [
  {
   "cell_type": "markdown",
   "metadata": {},
   "source": [
    "# Number Counting Combinatorics\n",
    "\n",
    "How many 6-digit numbers are there such that\n",
    "1. the digits are distinct;\n",
    "2. the number is divisible by 4;\n",
    "3. the even digits are not adjacent?"
   ]
  },
  {
   "cell_type": "markdown",
   "metadata": {},
   "source": [
    "## Deriavation (Combinatorics)\n",
    "\n",
    "To start with, let us satisfy the 2nd condition right away. For a number to be divisible by four, the number formed by the last two digits should be divisible by four (see appendix). In total, there are 25 such last two-digit combinations. However, we could also consider the 3rd condition and notice that since the last digit is even, the second to the last must be odd. \n",
    "\n",
    "There are ten such two-digit numbers:\n",
    "$$\n",
    "12\\;\\;16\\;\\;32\\;\\;36\\;\\;52\\;\\;56\\;\\;72\\;\\;76\\;\\;92\\;\\;96.\n",
    "$$\n",
    "Or $\\left\\{10d_5+d_6 \\;|\\; (d_5, d_6)\\in\\{1,3,5,7,9\\}\\times\\{2,6\\}\\right\\}$, sorry.\n",
    "\n",
    "Now, as we fix one of these two-digit pairs as the last two digits in our number (let us call them $d_5$ and $d_6$), only the first four digits are left to consider. For any of them, we are left with four odd and four even digits to choose from.\n",
    "\n",
    "The first four digits can have the following digits parities such that the 3rd condition is satisfied (\"o\" for odd, \"E\" for even):\n",
    "\n",
    "```\n",
    "      d1   d2   d3   d4\n",
    "1     o    o    o    o \n",
    "2     E    o    o    o \n",
    "3     o    E    o    o \n",
    "4     o    o    E    o \n",
    "5     o    o    o    E \n",
    "6     E    o    E    o \n",
    "7     E    o    o    E \n",
    "8     o    E    o    E \n",
    "```\n",
    "\n",
    "Let us group these cases in the following manner (by the row numbers):\n",
    "$$\n",
    "\\begin{align*}\n",
    "A &= \\{1\\}, \\\\\n",
    "B &= \\{2\\}, \\\\\n",
    "C &= \\{3,4,5\\}, \\\\\n",
    "D &= \\{6, 7\\}, \\\\\n",
    "E &= \\{8\\}.\n",
    "\\end{align*}\n",
    "$$\n",
    "Note that within each each group, each row has the same number of digit combinations. That is, if $N(r)$ is the total number of digit combinations for the row $r$, then \n",
    "$$\n",
    "|\\{N(r): r \\in G \\}| = 1, \\;\\;\\;\\forall G\\in\\{A,B,D,C,D,E\\}.\n",
    "$$\n",
    "\n",
    "Now, let us find the number of combinations for the rows in each group separately. Recall that, in total, four odd and four even digits are available for us to choose from.\n",
    "\n",
    "Also note that $d_1 \\neq 0$.\n",
    "\n",
    "- Group $A$.  $N(1) = 4! = 24.$ - permute 4 odd digits;\n",
    "- Group $B$.  $N(2) = 3 \\cdot \\binom{4}{3} 3! = 72.$ - choose one of three even digits (this excludes zero); choose three of four odd digits and permute them; \n",
    "- Group $C$.  $N(3) = \\binom{4}{3}3! \\cdot 4 = 96.$ - choose and permute three odd digits; choose one even digit;\n",
    "- Group $D$.  $N(6) = 3\\cdot 3 \\; \\cdot\\, \\binom{4}{2}2! = 108.$ - choose one even digit (not zero), then choose another even digit (now there are 3 left, including zero which we can now take); choose and permute two odd digits;\n",
    "- Group $E$.  $N(8) = \\binom{4}{2}2! \\cdot \\binom{4}{2}2! = 144.$ - choose and permute two odd digits; choose and permute two even digits.\n",
    "\n",
    "Now, we count the total number of combinations in all groups:\n",
    "$$\n",
    "N_{d_1d_2d_3d_4} = N(1)\\,|A| + N(2)\\,|B| + N(3)\\,|C| + N(6)\\,|D| + N(8)\\,|E| = 744,\n",
    "$$\n",
    "and now we recall those 10 last-two-digits pairs, and then, from symmetry, $N = 10N_{d_1d_2d_3d_4} = 7440.$\n",
    "\n"
   ]
  },
  {
   "cell_type": "code",
   "execution_count": 1,
   "metadata": {},
   "outputs": [
    {
     "name": "stdout",
     "output_type": "stream",
     "text": [
      "combinations: {'A': 24, 'B': 72, 'C': 96, 'D': 108, 'E': 144}\n",
      "group sizes: {'A': 1, 'B': 1, 'C': 3, 'D': 2, 'E': 1}\n",
      "first four digits (all combinations): 744\n",
      "\n",
      "    answer: 7440\n"
     ]
    }
   ],
   "source": [
    "from math import comb, factorial\n",
    "\n",
    "per_group_combinations = {\n",
    "    \"A\": factorial(4),\n",
    "    \"B\": 3 * comb(4, 3) * factorial(3),\n",
    "    \"C\": comb(4, 3) * factorial(3) * 4,\n",
    "    \"D\": 3 * 3 * comb(4, 2) * factorial(2),\n",
    "    \"E\": (comb(4, 2) * factorial(2)) ** 2,\n",
    "}\n",
    "print(\"combinations:\", per_group_combinations)\n",
    "\n",
    "group_sizes = {\"A\": 1, \"B\": 1, \"C\": 3, \"D\": 2, \"E\": 1}\n",
    "print(\"group sizes:\", group_sizes)\n",
    "\n",
    "N_first_four = sum(\n",
    "    combs * size\n",
    "    for combs, size in zip(per_group_combinations.values(), group_sizes.values())\n",
    ")\n",
    "print(\"first four digits (all combinations):\", N_first_four)\n",
    "\n",
    "N_total = 10 * N_first_four\n",
    "print(\"\\n    answer:\", N_total)"
   ]
  },
  {
   "cell_type": "markdown",
   "metadata": {},
   "source": [
    "## Brute Force"
   ]
  },
  {
   "cell_type": "code",
   "execution_count": 2,
   "metadata": {},
   "outputs": [
    {
     "data": {
      "text/plain": [
       "7440"
      ]
     },
     "execution_count": 2,
     "metadata": {},
     "output_type": "execute_result"
    }
   ],
   "source": [
    "from itertools import permutations, pairwise\n",
    "\n",
    "DIGITS = list(range(10))\n",
    "\n",
    "\n",
    "def ok(number) -> bool:\n",
    "    if number[0] == 0:\n",
    "        return False\n",
    "    if (number[-2] * 10 + number[-1]) % 4 != 0:\n",
    "        return False\n",
    "    for d1, d2 in pairwise(number):\n",
    "        if (d1 % 2) == (d2 % 2) == 0:\n",
    "            return False\n",
    "    return True\n",
    "\n",
    "\n",
    "sum(ok(number) for number in permutations(DIGITS, r=6))\n"
   ]
  },
  {
   "cell_type": "markdown",
   "metadata": {},
   "source": [
    "## Appendix\n",
    "\n",
    "### Divisibility by $4$\n",
    "Let $\\overline{d_1d_2\\dots d_k}$ be a $k$-digit natural number $d$ with the digits from $[0, 9]\\subset\\mathbb{N}$, but $d_1 \\neq 0$. Then,\n",
    "$$\n",
    "\\overline{d_1d_2\\dots d_k} = 100\\cdot\\overline{d_1d_2\\dots d_{k-2}} + \\overline{d_{k-1}d_k}\n",
    "$$\n",
    "Taking $\\text{mod } 4$ of this equality, we get\n",
    "$$\n",
    "\\overline{d_1d_2\\dots d_k} \\equiv \\overline{d_{k-1}d_k} \\;\\;\\; (\\text{mod } 4)\n",
    "$$\n",
    "since\n",
    "$$\n",
    "\\begin{align*}\n",
    "100\\cdot\\overline{d_1d_2\\dots d_{k-2}} \\equiv \\overline{d_{k-1}d_k} \\;\\;\\; (\\text{mod } 4). \\;\\;\\;\\;\\;\\;\\; & \\\\\n",
    "&\\blacksquare\n",
    "\\end{align*}\n",
    "$$\n",
    "\n"
   ]
  }
 ],
 "metadata": {
  "kernelspec": {
   "display_name": "thevenv",
   "language": "python",
   "name": "python3"
  },
  "language_info": {
   "codemirror_mode": {
    "name": "ipython",
    "version": 3
   },
   "file_extension": ".py",
   "mimetype": "text/x-python",
   "name": "python",
   "nbconvert_exporter": "python",
   "pygments_lexer": "ipython3",
   "version": "3.11.3"
  }
 },
 "nbformat": 4,
 "nbformat_minor": 2
}
