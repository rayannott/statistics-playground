{
 "cells": [
  {
   "cell_type": "code",
   "execution_count": 1,
   "metadata": {},
   "outputs": [],
   "source": [
    "import numpy as np\n",
    "import matplotlib.pyplot as plt"
   ]
  },
  {
   "cell_type": "code",
   "execution_count": 2,
   "metadata": {},
   "outputs": [
    {
     "name": "stdout",
     "output_type": "stream",
     "text": [
      "[ 0.89534884 -1.02325581]\n"
     ]
    },
    {
     "data": {
      "image/png": "[encoded data removed]",
      "text/plain": [
       "<Figure size 640x480 with 1 Axes>"
      ]
     },
     "metadata": {},
     "output_type": "display_data"
    }
   ],
   "source": [
    "xs = np.array([1, 2, 4, 5, 6])\n",
    "ys = np.array([0, 1, 2, 3, 5])\n",
    "\n",
    "line_coefs = np.polyfit(xs, ys, 1)\n",
    "print(line_coefs)\n",
    "best_line = np.poly1d(line_coefs)\n",
    "\n",
    "plt.plot(xs, ys, 'o')\n",
    "plt.plot(xs, best_line(xs))\n",
    "plt.grid()\n",
    "plt.show()\n"
   ]
  },
  {
   "cell_type": "markdown",
   "metadata": {},
   "source": [
    "### Solution 1. Calculus Math\n",
    "Minimize\n",
    "$$\n",
    "L(a, b) = \\sum_{i=1}^{n} (b + a \\cdot x_i - y_i)^2\n",
    "$$\n",
    "\n",
    "This is a multivariate minimization problem; we can solve it by partial derivatives.\n",
    "\n",
    "$$\n",
    "\\frac{\\partial L}{\\partial b} = 2 \\sum_{i=1}^{n} (b + a \\cdot x_i - y_i) = 0\n",
    "$$\n",
    "\n",
    "$$\n",
    "\\frac{\\partial L}{\\partial a} = 2 \\sum_{i=1}^{n} x_i (b + a \\cdot x_i - y_i) = 0\n",
    "$$\n",
    "\n",
    "This is a linear system for $a$ and $b$.\n",
    "\n",
    "Let $S_x = \\sum_{i=1}^{n} x_i$, $S_y = \\sum_{i=1}^{n} y_i$, $S_{xx} = \\sum_{i=1}^{n} x_i^2$, $S_{xy} = \\sum_{i=1}^{n} x_i y_i$.\n",
    "\n",
    "Then,\n",
    "$$\n",
    "b = \\frac{S_{xx} S_y - S_x S_{xy}}{n S_{xx} - S_x^2}\n",
    "$$\n",
    "\n",
    "$$\n",
    "a = \\frac{n S_{xy} - S_x S_y}{n S_{xx} - S_x^2}\n",
    "$$"
   ]
  },
  {
   "cell_type": "code",
   "execution_count": 3,
   "metadata": {},
   "outputs": [
    {
     "name": "stdout",
     "output_type": "stream",
     "text": [
      "0.8953488372093024 -1.0232558139534884\n"
     ]
    }
   ],
   "source": [
    "n = len(xs)\n",
    "s_x = np.sum(xs)\n",
    "s_y = np.sum(ys)\n",
    "s_xx = np.sum(xs**2)\n",
    "s_xy = np.sum(xs*ys)\n",
    "\n",
    "a = (n * s_xy - s_x * s_y) / (n * s_xx - s_x**2)\n",
    "b = (s_y * s_xx - s_x * s_xy) / (n * s_xx - s_x**2)\n",
    "\n",
    "print(a, b)"
   ]
  },
  {
   "cell_type": "markdown",
   "metadata": {},
   "source": [
    "### Solution 2. Linear Algebra\n",
    "\n",
    "Formulate as a least squares problem."
   ]
  },
  {
   "cell_type": "code",
   "execution_count": 4,
   "metadata": {},
   "outputs": [
    {
     "data": {
      "text/plain": [
       "array([[1, 1],\n",
       "       [2, 1],\n",
       "       [4, 1],\n",
       "       [5, 1],\n",
       "       [6, 1]])"
      ]
     },
     "execution_count": 4,
     "metadata": {},
     "output_type": "execute_result"
    }
   ],
   "source": [
    "A = np.stack((xs, np.ones_like(xs))).T\n",
    "A"
   ]
  },
  {
   "cell_type": "markdown",
   "metadata": {},
   "source": [
    "here we want \n",
    "$$\n",
    "x^* = \\argmin_x{|| Ax - b ||^2}\n",
    "$$\n",
    "\n",
    "\n",
    "[Moore-Penrose pseudoinverse](https://en.wikipedia.org/wiki/Moore%E2%80%93Penrose_inverse) of $A$ is\n",
    "$$\n",
    "A^+ = (A^T A)^{-1} A^T\n",
    "$$\n",
    "\n",
    "Then,\n",
    "$$\n",
    "x^* = A^+ b\n",
    "$$"
   ]
  },
  {
   "cell_type": "code",
   "execution_count": 5,
   "metadata": {},
   "outputs": [
    {
     "data": {
      "text/plain": [
       "array([ 0.89534884, -1.02325581])"
      ]
     },
     "execution_count": 5,
     "metadata": {},
     "output_type": "execute_result"
    }
   ],
   "source": [
    "A_mp = np.linalg.pinv(A)  # Moore-Penrose pseudo-inverse\n",
    "x_mp = A_mp @ ys\n",
    "x_mp"
   ]
  }
 ],
 "metadata": {
  "kernelspec": {
   "display_name": "torchvenv",
   "language": "python",
   "name": "python3"
  },
  "language_info": {
   "codemirror_mode": {
    "name": "ipython",
    "version": 3
   },
   "file_extension": ".py",
   "mimetype": "text/x-python",
   "name": "python",
   "nbconvert_exporter": "python",
   "pygments_lexer": "ipython3",
   "version": "3.12.1"
  }
 },
 "nbformat": 4,
 "nbformat_minor": 2
}
