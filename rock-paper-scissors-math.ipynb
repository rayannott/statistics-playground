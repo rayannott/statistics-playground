{
 "cells": [
  {
   "cell_type": "markdown",
   "metadata": {},
   "source": [
    "# Expected number of Rock-Paper-Scissors rounds"
   ]
  },
  {
   "cell_type": "markdown",
   "metadata": {},
   "source": [
    "### Math\n",
    "\n",
    "Let $E(n)$ be the expected number of rounds until a winner is decided for $n$ starting people. Let $p_n^m$ be the probability that out of $n$ people only $m$ continue in the next round (e.g. $p_4^1$ would mean that some player won, and $p_4^4$ that there was a draw and all four people play again).\n",
    "\n",
    "It is obvious that\n",
    "$$\n",
    "    E(n) = 1 + \\sum_{i=1}^n p_n^i E(i).\n",
    "$$\n",
    "\n",
    "Or, when solved for $E(n)$\n",
    "$$\n",
    "    (1-p_n^n) E(n) = 1 + \\sum_{i=1}^{n-1} p_n^i E(i).\n",
    "$$\n",
    "\n",
    "Let $C_n^m:=\\frac{n!}{(n-m)!m!}$ be the \"n choose m\" binomial coefficient. Let $0, 1, 2$ be the figures rock, paper and scissors, respectively (or any other rotation of $(0, 1, 2)$; the required property is that the preference relation $0 \\succ 1 \\succ 2 \\succ 0$ holds).\n",
    "\n",
    "Take $n=5$ and $m=2$. Exactly two out of five people win in all permulations of $00111$, $11222$ and $22000$. Hence, $p_5^2 = \\frac{C_3^2 C_5^2}{3^5}$ where $C_3^2$ is to choose two figures out of three (a constant for all $n, m$), $C_5^2$ is to account for all aforementioned permutations and $3^5$ is the number of all possible sets of figures for five people.\n",
    "\n",
    "Following this logic, we have\n",
    "$$\n",
    "    p_n^m = \\frac{C_3^2 C_n^m}{3^n} = \\frac{C_n^m}{3^{n-1}}\n",
    "$$\n",
    "for $n > 1$, $m=1..(n-1).$\n",
    "\n",
    "For a draw probability, use the normalization $\\sum_{i=1}^n p_n^i = 1$:\n",
    "$$\n",
    "    p_n^n = 1 - \\sum_{i=1}^{n-1} p_n^i.\n",
    "$$\n",
    "\n",
    "We now have\n",
    "$$\n",
    "\\sum_{i=1}^{n-1} p_n^i E(n) = 1 + \\sum_{i=1}^{n-1} p_n^i E(i)\n",
    "$$\n",
    "\n",
    "Using $\\sum_{i=0}^n C_n^i = 2^n$, we have\n",
    "$$\n",
    "\\frac{1}{3^{n-1}} (2^n - 2) E(n) = 1 + \\frac{1}{3^{n-1}} \\sum_{i=1}^{n-1} C_n^i E(i).\n",
    "$$"
   ]
  },
  {
   "cell_type": "markdown",
   "metadata": {},
   "source": [
    "### Simulation"
   ]
  },
  {
   "cell_type": "code",
   "execution_count": 1,
   "metadata": {
    "metadata": {}
   },
   "outputs": [],
   "source": [
    "import math\n",
    "from functools import lru_cache\n",
    "\n",
    "def binomial(n: int, k: int) -> int:\n",
    "    return math.factorial(n) // math.factorial(k) // math.factorial(n - k)\n",
    "\n",
    "\n",
    "@lru_cache(maxsize=None)\n",
    "def expected_num_rounds(n: int) -> float:\n",
    "    if n == 1:\n",
    "        return 0.\n",
    "    return (3**(n-1) / (2**n - 2)) * (1 + 1./3**(n-1) * sum(binomial(n, i) * expected_num_rounds(i) for i in range(1, n)))"
   ]
  },
  {
   "cell_type": "code",
   "execution_count": 2,
   "metadata": {
    "metadata": {}
   },
   "outputs": [],
   "source": [
    "import random\n",
    "from statistics import mean, stdev\n",
    "from collections import Counter\n",
    "\n",
    "def sample(n: int) -> list[int]:\n",
    "    return [random.randrange(3) for _ in range(n)]\n",
    "\n",
    "def simulate_one(n: int) -> int:\n",
    "    hands = sample(n)\n",
    "    rounds = 0\n",
    "    while n > 1:\n",
    "        rounds += 1\n",
    "        hands = sample(n)\n",
    "        cnt = Counter(hands)\n",
    "        if len(cnt) in {1, 3}:\n",
    "            continue\n",
    "        if cnt.keys() == {0, 1}:\n",
    "            n = cnt[0]\n",
    "        elif cnt.keys() == {1, 2}:\n",
    "            n = cnt[1]\n",
    "        elif cnt.keys() == {0, 2}:\n",
    "            n = cnt[2]\n",
    "        else:\n",
    "            raise ValueError(\"Impossible\")\n",
    "    return rounds\n",
    "\n",
    "\n",
    "def simulate(N: int, N_iter=1000) -> tuple[float, float]:\n",
    "    simres = [simulate_one(N) for _ in range(N_iter)]\n",
    "    return mean(simres), stdev(simres)"
   ]
  },
  {
   "cell_type": "code",
   "execution_count": 3,
   "metadata": {
    "metadata": {}
   },
   "outputs": [],
   "source": [
    "ns = list(range(2, 30))\n",
    "res = [simulate(n, N_iter=2000 // n) for n in ns]\n",
    "means = [el[0] for el in res]\n",
    "stdevs = [el[1] for el in res]"
   ]
  },
  {
   "cell_type": "code",
   "execution_count": 5,
   "metadata": {
    "metadata": {}
   },
   "outputs": [],
   "source": [
    "expectancies = [expected_num_rounds(n) for n in ns]"
   ]
  },
  {
   "cell_type": "code",
   "execution_count": 5,
   "metadata": {
    "metadata": {}
   },
   "outputs": [
    {
     "data": {
      "application/vnd.plotly.v1+json": {
       "config": {
        "plotlyServerURL": "https://plot.ly"
       },
       "data": [
        {
         "mode": "lines",
         "name": "analytical",
         "type": "scatter",
         "x": [
          2,
          3,
          4,
          5,
          6,
          7,
          8,
          9,
          10,
          11,
          12,
          13,
          14,
          15,
          16,
          17,
          18,
          19,
          20,
          21,
          22,
          23,
          24,
          25,
          26,
          27,
          28,
          29
         ],
         "y": [
          1.5,
          2.25,
          3.214285714285714,
          4.485714285714286,
          6.219815668202766,
          8.64673579109063,
          12.104443799363787,
          17.091935291769744,
          24.34959775845648,
          34.97946098669074,
          50.625020516754546,
          73.7403531088609,
          107.9931336733102,
          158.8684407297616,
          234.5736341955354,
          347.39467747335925,
          515.7294029044995,
          767.1359025981154,
          1142.90323925497,
          1704.90517389546,
          2545.8778387886264,
          3804.8326026099676,
          5690.17081707163,
          8514.35025250697,
          12745.877650780172,
          19087.288684592288,
          28592.10681500297,
          42840.26773273416
         ]
        },
        {
         "mode": "markers",
         "name": "simulation",
         "type": "scatter",
         "x": [
          2,
          3,
          4,
          5,
          6,
          7,
          8,
          9,
          10,
          11,
          12,
          13,
          14,
          15,
          16,
          17,
          18,
          19,
          20,
          21,
          22,
          23,
          24,
          25,
          26,
          27,
          28,
          29
         ],
         "y": [
          1.474,
          2.2687687687687688,
          3.236,
          4.14,
          6.4174174174174174,
          9.080701754385965,
          12.944,
          16.513513513513512,
          23.02,
          34.889502762430936,
          52.15060240963855,
          68.61437908496733,
          112.29577464788733,
          164.62406015037595,
          226.592,
          382.87179487179486,
          520.990990990991,
          734.5428571428571,
          1179.6,
          1893.6842105263158,
          2664.8,
          3259.3953488372094,
          6463.78313253012,
          9117.6125,
          11945.921052631578,
          18750.135135135137,
          27685.084507042255,
          43864.205882352944
         ]
        }
       ],
       "layout": {
        "legend": {
         "x": 0.01,
         "xanchor": "left",
         "y": 0.99,
         "yanchor": "top"
        },
        "template": {
         "data": {
          "bar": [
           {
            "error_x": {
             "color": "#f2f5fa"
            },
            "error_y": {
             "color": "#f2f5fa"
            },
            "marker": {
             "line": {
              "color": "rgb(17,17,17)",
              "width": 0.5
             },
             "pattern": {
              "fillmode": "overlay",
              "size": 10,
              "solidity": 0.2
             }
            },
            "type": "bar"
           }
          ],
          "barpolar": [
           {
            "marker": {
             "line": {
              "color": "rgb(17,17,17)",
              "width": 0.5
             },
             "pattern": {
              "fillmode": "overlay",
              "size": 10,
              "solidity": 0.2
             }
            },
            "type": "barpolar"
           }
          ],
          "carpet": [
           {
            "aaxis": {
             "endlinecolor": "#A2B1C6",
             "gridcolor": "#506784",
             "linecolor": "#506784",
             "minorgridcolor": "#506784",
             "startlinecolor": "#A2B1C6"
            },
            "baxis": {
             "endlinecolor": "#A2B1C6",
             "gridcolor": "#506784",
             "linecolor": "#506784",
             "minorgridcolor": "#506784",
             "startlinecolor": "#A2B1C6"
            },
            "type": "carpet"
           }
          ],
          "choropleth": [
           {
            "colorbar": {
             "outlinewidth": 0,
             "ticks": ""
            },
            "type": "choropleth"
           }
          ],
          "contour": [
           {
            "colorbar": {
             "outlinewidth": 0,
             "ticks": ""
            },
            "colorscale": [
             [
              0,
              "#0d0887"
             ],
             [
              0.1111111111111111,
              "#46039f"
             ],
             [
              0.2222222222222222,
              "#7201a8"
             ],
             [
              0.3333333333333333,
              "#9c179e"
             ],
             [
              0.4444444444444444,
              "#bd3786"
             ],
             [
              0.5555555555555556,
              "#d8576b"
             ],
             [
              0.6666666666666666,
              "#ed7953"
             ],
             [
              0.7777777777777778,
              "#fb9f3a"
             ],
             [
              0.8888888888888888,
              "#fdca26"
             ],
             [
              1,
              "#f0f921"
             ]
            ],
            "type": "contour"
           }
          ],
          "contourcarpet": [
           {
            "colorbar": {
             "outlinewidth": 0,
             "ticks": ""
            },
            "type": "contourcarpet"
           }
          ],
          "heatmap": [
           {
            "colorbar": {
             "outlinewidth": 0,
             "ticks": ""
            },
            "colorscale": [
             [
              0,
              "#0d0887"
             ],
             [
              0.1111111111111111,
              "#46039f"
             ],
             [
              0.2222222222222222,
              "#7201a8"
             ],
             [
              0.3333333333333333,
              "#9c179e"
             ],
             [
              0.4444444444444444,
              "#bd3786"
             ],
             [
              0.5555555555555556,
              "#d8576b"
             ],
             [
              0.6666666666666666,
              "#ed7953"
             ],
             [
              0.7777777777777778,
              "#fb9f3a"
             ],
             [
              0.8888888888888888,
              "#fdca26"
             ],
             [
              1,
              "#f0f921"
             ]
            ],
            "type": "heatmap"
           }
          ],
          "heatmapgl": [
           {
            "colorbar": {
             "outlinewidth": 0,
             "ticks": ""
            },
            "colorscale": [
             [
              0,
              "#0d0887"
             ],
             [
              0.1111111111111111,
              "#46039f"
             ],
             [
              0.2222222222222222,
              "#7201a8"
             ],
             [
              0.3333333333333333,
              "#9c179e"
             ],
             [
              0.4444444444444444,
              "#bd3786"
             ],
             [
              0.5555555555555556,
              "#d8576b"
             ],
             [
              0.6666666666666666,
              "#ed7953"
             ],
             [
              0.7777777777777778,
              "#fb9f3a"
             ],
             [
              0.8888888888888888,
              "#fdca26"
             ],
             [
              1,
              "#f0f921"
             ]
            ],
            "type": "heatmapgl"
           }
          ],
          "histogram": [
           {
            "marker": {
             "pattern": {
              "fillmode": "overlay",
              "size": 10,
              "solidity": 0.2
             }
            },
            "type": "histogram"
           }
          ],
          "histogram2d": [
           {
            "colorbar": {
             "outlinewidth": 0,
             "ticks": ""
            },
            "colorscale": [
             [
              0,
              "#0d0887"
             ],
             [
              0.1111111111111111,
              "#46039f"
             ],
             [
              0.2222222222222222,
              "#7201a8"
             ],
             [
              0.3333333333333333,
              "#9c179e"
             ],
             [
              0.4444444444444444,
              "#bd3786"
             ],
             [
              0.5555555555555556,
              "#d8576b"
             ],
             [
              0.6666666666666666,
              "#ed7953"
             ],
             [
              0.7777777777777778,
              "#fb9f3a"
             ],
             [
              0.8888888888888888,
              "#fdca26"
             ],
             [
              1,
              "#f0f921"
             ]
            ],
            "type": "histogram2d"
           }
          ],
          "histogram2dcontour": [
           {
            "colorbar": {
             "outlinewidth": 0,
             "ticks": ""
            },
            "colorscale": [
             [
              0,
              "#0d0887"
             ],
             [
              0.1111111111111111,
              "#46039f"
             ],
             [
              0.2222222222222222,
              "#7201a8"
             ],
             [
              0.3333333333333333,
              "#9c179e"
             ],
             [
              0.4444444444444444,
              "#bd3786"
             ],
             [
              0.5555555555555556,
              "#d8576b"
             ],
             [
              0.6666666666666666,
              "#ed7953"
             ],
             [
              0.7777777777777778,
              "#fb9f3a"
             ],
             [
              0.8888888888888888,
              "#fdca26"
             ],
             [
              1,
              "#f0f921"
             ]
            ],
            "type": "histogram2dcontour"
           }
          ],
          "mesh3d": [
           {
            "colorbar": {
             "outlinewidth": 0,
             "ticks": ""
            },
            "type": "mesh3d"
           }
          ],
          "parcoords": [
           {
            "line": {
             "colorbar": {
              "outlinewidth": 0,
              "ticks": ""
             }
            },
            "type": "parcoords"
           }
          ],
          "pie": [
           {
            "automargin": true,
            "type": "pie"
           }
          ],
          "scatter": [
           {
            "marker": {
             "line": {
              "color": "#283442"
             }
            },
            "type": "scatter"
           }
          ],
          "scatter3d": [
           {
            "line": {
             "colorbar": {
              "outlinewidth": 0,
              "ticks": ""
             }
            },
            "marker": {
             "colorbar": {
              "outlinewidth": 0,
              "ticks": ""
             }
            },
            "type": "scatter3d"
           }
          ],
          "scattercarpet": [
           {
            "marker": {
             "colorbar": {
              "outlinewidth": 0,
              "ticks": ""
             }
            },
            "type": "scattercarpet"
           }
          ],
          "scattergeo": [
           {
            "marker": {
             "colorbar": {
              "outlinewidth": 0,
              "ticks": ""
             }
            },
            "type": "scattergeo"
           }
          ],
          "scattergl": [
           {
            "marker": {
             "line": {
              "color": "#283442"
             }
            },
            "type": "scattergl"
           }
          ],
          "scattermapbox": [
           {
            "marker": {
             "colorbar": {
              "outlinewidth": 0,
              "ticks": ""
             }
            },
            "type": "scattermapbox"
           }
          ],
          "scatterpolar": [
           {
            "marker": {
             "colorbar": {
              "outlinewidth": 0,
              "ticks": ""
             }
            },
            "type": "scatterpolar"
           }
          ],
          "scatterpolargl": [
           {
            "marker": {
             "colorbar": {
              "outlinewidth": 0,
              "ticks": ""
             }
            },
            "type": "scatterpolargl"
           }
          ],
          "scatterternary": [
           {
            "marker": {
             "colorbar": {
              "outlinewidth": 0,
              "ticks": ""
             }
            },
            "type": "scatterternary"
           }
          ],
          "surface": [
           {
            "colorbar": {
             "outlinewidth": 0,
             "ticks": ""
            },
            "colorscale": [
             [
              0,
              "#0d0887"
             ],
             [
              0.1111111111111111,
              "#46039f"
             ],
             [
              0.2222222222222222,
              "#7201a8"
             ],
             [
              0.3333333333333333,
              "#9c179e"
             ],
             [
              0.4444444444444444,
              "#bd3786"
             ],
             [
              0.5555555555555556,
              "#d8576b"
             ],
             [
              0.6666666666666666,
              "#ed7953"
             ],
             [
              0.7777777777777778,
              "#fb9f3a"
             ],
             [
              0.8888888888888888,
              "#fdca26"
             ],
             [
              1,
              "#f0f921"
             ]
            ],
            "type": "surface"
           }
          ],
          "table": [
           {
            "cells": {
             "fill": {
              "color": "#506784"
             },
             "line": {
              "color": "rgb(17,17,17)"
             }
            },
            "header": {
             "fill": {
              "color": "#2a3f5f"
             },
             "line": {
              "color": "rgb(17,17,17)"
             }
            },
            "type": "table"
           }
          ]
         },
         "layout": {
          "annotationdefaults": {
           "arrowcolor": "#f2f5fa",
           "arrowhead": 0,
           "arrowwidth": 1
          },
          "autotypenumbers": "strict",
          "coloraxis": {
           "colorbar": {
            "outlinewidth": 0,
            "ticks": ""
           }
          },
          "colorscale": {
           "diverging": [
            [
             0,
             "#8e0152"
            ],
            [
             0.1,
             "#c51b7d"
            ],
            [
             0.2,
             "#de77ae"
            ],
            [
             0.3,
             "#f1b6da"
            ],
            [
             0.4,
             "#fde0ef"
            ],
            [
             0.5,
             "#f7f7f7"
            ],
            [
             0.6,
             "#e6f5d0"
            ],
            [
             0.7,
             "#b8e186"
            ],
            [
             0.8,
             "#7fbc41"
            ],
            [
             0.9,
             "#4d9221"
            ],
            [
             1,
             "#276419"
            ]
           ],
           "sequential": [
            [
             0,
             "#0d0887"
            ],
            [
             0.1111111111111111,
             "#46039f"
            ],
            [
             0.2222222222222222,
             "#7201a8"
            ],
            [
             0.3333333333333333,
             "#9c179e"
            ],
            [
             0.4444444444444444,
             "#bd3786"
            ],
            [
             0.5555555555555556,
             "#d8576b"
            ],
            [
             0.6666666666666666,
             "#ed7953"
            ],
            [
             0.7777777777777778,
             "#fb9f3a"
            ],
            [
             0.8888888888888888,
             "#fdca26"
            ],
            [
             1,
             "#f0f921"
            ]
           ],
           "sequentialminus": [
            [
             0,
             "#0d0887"
            ],
            [
             0.1111111111111111,
             "#46039f"
            ],
            [
             0.2222222222222222,
             "#7201a8"
            ],
            [
             0.3333333333333333,
             "#9c179e"
            ],
            [
             0.4444444444444444,
             "#bd3786"
            ],
            [
             0.5555555555555556,
             "#d8576b"
            ],
            [
             0.6666666666666666,
             "#ed7953"
            ],
            [
             0.7777777777777778,
             "#fb9f3a"
            ],
            [
             0.8888888888888888,
             "#fdca26"
            ],
            [
             1,
             "#f0f921"
            ]
           ]
          },
          "colorway": [
           "#636efa",
           "#EF553B",
           "#00cc96",
           "#ab63fa",
           "#FFA15A",
           "#19d3f3",
           "#FF6692",
           "#B6E880",
           "#FF97FF",
           "#FECB52"
          ],
          "font": {
           "color": "#f2f5fa"
          },
          "geo": {
           "bgcolor": "rgb(17,17,17)",
           "lakecolor": "rgb(17,17,17)",
           "landcolor": "rgb(17,17,17)",
           "showlakes": true,
           "showland": true,
           "subunitcolor": "#506784"
          },
          "hoverlabel": {
           "align": "left"
          },
          "hovermode": "closest",
          "mapbox": {
           "style": "dark"
          },
          "paper_bgcolor": "rgb(17,17,17)",
          "plot_bgcolor": "rgb(17,17,17)",
          "polar": {
           "angularaxis": {
            "gridcolor": "#506784",
            "linecolor": "#506784",
            "ticks": ""
           },
           "bgcolor": "rgb(17,17,17)",
           "radialaxis": {
            "gridcolor": "#506784",
            "linecolor": "#506784",
            "ticks": ""
           }
          },
          "scene": {
           "xaxis": {
            "backgroundcolor": "rgb(17,17,17)",
            "gridcolor": "#506784",
            "gridwidth": 2,
            "linecolor": "#506784",
            "showbackground": true,
            "ticks": "",
            "zerolinecolor": "#C8D4E3"
           },
           "yaxis": {
            "backgroundcolor": "rgb(17,17,17)",
            "gridcolor": "#506784",
            "gridwidth": 2,
            "linecolor": "#506784",
            "showbackground": true,
            "ticks": "",
            "zerolinecolor": "#C8D4E3"
           },
           "zaxis": {
            "backgroundcolor": "rgb(17,17,17)",
            "gridcolor": "#506784",
            "gridwidth": 2,
            "linecolor": "#506784",
            "showbackground": true,
            "ticks": "",
            "zerolinecolor": "#C8D4E3"
           }
          },
          "shapedefaults": {
           "line": {
            "color": "#f2f5fa"
           }
          },
          "sliderdefaults": {
           "bgcolor": "#C8D4E3",
           "bordercolor": "rgb(17,17,17)",
           "borderwidth": 1,
           "tickwidth": 0
          },
          "ternary": {
           "aaxis": {
            "gridcolor": "#506784",
            "linecolor": "#506784",
            "ticks": ""
           },
           "baxis": {
            "gridcolor": "#506784",
            "linecolor": "#506784",
            "ticks": ""
           },
           "bgcolor": "rgb(17,17,17)",
           "caxis": {
            "gridcolor": "#506784",
            "linecolor": "#506784",
            "ticks": ""
           }
          },
          "title": {
           "x": 0.05
          },
          "updatemenudefaults": {
           "bgcolor": "#506784",
           "borderwidth": 0
          },
          "xaxis": {
           "automargin": true,
           "gridcolor": "#283442",
           "linecolor": "#506784",
           "ticks": "",
           "title": {
            "standoff": 15
           },
           "zerolinecolor": "#283442",
           "zerolinewidth": 2
          },
          "yaxis": {
           "automargin": true,
           "gridcolor": "#283442",
           "linecolor": "#506784",
           "ticks": "",
           "title": {
            "standoff": 15
           },
           "zerolinecolor": "#283442",
           "zerolinewidth": 2
          }
         }
        },
        "yaxis": {
         "type": "log"
        }
       }
      }
     },
     "metadata": {},
     "output_type": "display_data"
    }
   ],
   "source": [
    "import plotly.graph_objects as go\n",
    "\n",
    "fig = go.Figure()\n",
    "# add scatter plot with error bars\n",
    "fig.add_trace(go.Scatter(x=ns, y=expectancies, mode=\"lines\", name=\"analytical\"))\n",
    "fig.add_trace(\n",
    "    go.Scatter(\n",
    "        x=ns,\n",
    "        y=means,\n",
    "        mode=\"markers\",\n",
    "        name=\"simulation\",\n",
    "        # error_y=dict(type=\"data\", array=stdevs, visible=True),\n",
    "    )\n",
    ")\n",
    "\n",
    "fig.update_layout(\n",
    "    template=\"plotly_dark\", legend=dict(yanchor=\"top\", y=0.99, xanchor=\"left\", x=0.01)\n",
    ")\n",
    "fig.update_yaxes(type=\"log\")\n",
    "fig.show()\n"
   ]
  },
  {
   "cell_type": "code",
   "execution_count": null,
   "metadata": {},
   "outputs": [],
   "source": []
  },
  {
   "cell_type": "markdown",
   "metadata": {},
   "source": [
    "## Analytical: best fit"
   ]
  },
  {
   "cell_type": "code",
   "execution_count": 5,
   "metadata": {
    "metadata": {}
   },
   "outputs": [
    {
     "data": {
      "image/png": "[encoded data removed]",
      "text/plain": [
       "<Figure size 640x480 with 1 Axes>"
      ]
     },
     "metadata": {},
     "output_type": "display_data"
    }
   ],
   "source": [
    "import numpy as np\n",
    "import matplotlib.pyplot as plt\n",
    "\n",
    "\n",
    "ns_an = list(range(2, 100))\n",
    "expectancies_an = [expected_num_rounds(n) for n in ns_an]\n",
    "\n",
    "plt.plot(ns_an, expectancies_an)\n",
    "plt.yscale(\"log\")\n",
    "plt.grid()\n",
    "plt.show()"
   ]
  },
  {
   "cell_type": "code",
   "execution_count": 9,
   "metadata": {
    "metadata": {}
   },
   "outputs": [
    {
     "name": "stdout",
     "output_type": "stream",
     "text": [
      "[ 0.40245941 -0.89134459]\n",
      "1.4954982233429392\n"
     ]
    }
   ],
   "source": [
    "coefs = np.polyfit(ns_an, np.log(expectancies_an), 1)\n",
    "print(coefs)\n",
    "print(np.exp(coefs[0]))"
   ]
  },
  {
   "cell_type": "markdown",
   "metadata": {},
   "source": []
  },
  {
   "cell_type": "code",
   "execution_count": null,
   "metadata": {
    "metadata": {}
   },
   "outputs": [],
   "source": [
    "coefs = np.polyfit(ns_an, np.log(expectancies_an), 1)\n",
    "\n",
    "def expected_num_rounds_fit(n: int) -> float:\n",
    "    return np.exp(coefs[1]) * np.exp(coefs[0] * n)"
   ]
  },
  {
   "cell_type": "code",
   "execution_count": 26,
   "metadata": {
    "metadata": {}
   },
   "outputs": [
    {
     "name": "stdout",
     "output_type": "stream",
     "text": [
      "n=02: analytical=1.500 fit=0.917, -38.85%\n",
      "n=03: analytical=2.250 fit=1.372, -39.04%\n",
      "n=04: analytical=3.214 fit=2.051, -36.18%\n",
      "n=05: analytical=4.486 fit=3.068, -31.61%\n",
      "n=06: analytical=6.220 fit=4.588, -26.24%\n",
      "n=07: analytical=8.647 fit=6.861, -20.65%\n",
      "n=08: analytical=12.104 fit=10.261, -15.23%\n",
      "n=09: analytical=17.092 fit=15.345, -10.22%\n",
      "n=10: analytical=24.350 fit=22.948, -5.75%\n",
      "n=11: analytical=34.979 fit=34.319, -1.89%\n",
      "n=12: analytical=50.625 fit=51.325, 1.38%\n",
      "n=13: analytical=73.740 fit=76.756, 4.09%\n",
      "n=14: analytical=107.993 fit=114.788, 6.29%\n",
      "n=15: analytical=158.868 fit=171.665, 8.05%\n",
      "n=16: analytical=234.574 fit=256.725, 9.44%\n",
      "n=17: analytical=347.395 fit=383.932, 10.52%\n",
      "n=18: analytical=515.729 fit=574.170, 11.33%\n",
      "n=19: analytical=767.136 fit=858.670, 11.93%\n",
      "n=20: analytical=1142.903 fit=1284.139, 12.36%\n",
      "n=21: analytical=1704.905 fit=1920.427, 12.64%\n",
      "n=22: analytical=2545.878 fit=2871.996, 12.81%\n",
      "n=23: analytical=3804.833 fit=4295.065, 12.88%\n",
      "n=24: analytical=5690.171 fit=6423.261, 12.88%\n",
      "n=25: analytical=8514.350 fit=9605.976, 12.82%\n",
      "n=26: analytical=12745.878 fit=14365.720, 12.71%\n",
      "n=27: analytical=19087.289 fit=21483.909, 12.56%\n",
      "n=28: analytical=28592.107 fit=32129.147, 12.37%\n",
      "n=29: analytical=42840.268 fit=48049.083, 12.16%\n"
     ]
    }
   ],
   "source": [
    "for n in ns:\n",
    "    analytical = expected_num_rounds(n)\n",
    "    fit = expected_num_rounds_fit(n)\n",
    "    print(f\"{n=:>02}: {analytical=:.3f} {fit=:.3f}, {(fit - analytical) / analytical:.2%}\")"
   ]
  },
  {
   "cell_type": "code",
   "execution_count": null,
   "metadata": {},
   "outputs": [],
   "source": []
  }
 ],
 "metadata": {
  "kernelspec": {
   "display_name": "Python 3",
   "language": "python",
   "name": "python3"
  },
  "language_info": {
   "codemirror_mode": {
    "name": "ipython",
    "version": 3
   },
   "file_extension": ".py",
   "mimetype": "text/x-python",
   "name": "python",
   "nbconvert_exporter": "python",
   "pygments_lexer": "ipython3",
   "version": "3.13.0"
  }
 },
 "nbformat": 4,
 "nbformat_minor": 2
}
