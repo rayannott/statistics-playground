{
 "cells": [
  {
   "cell_type": "code",
   "execution_count": null,
   "metadata": {},
   "outputs": [],
   "source": [
    "import random\n",
    "import itertools\n",
    "\n",
    "from matplotlib import pyplot as plt\n",
    "import plotly.graph_objects as go\n",
    "\n",
    "\n",
    "def n_random_bits(n):\n",
    "    return \"\".join(map(str, random.choices([0, 1], k=n)))\n",
    "\n",
    "\n",
    "def simulated_probability_no_n_len_substrings(N: int, n: int, n_runs: int) -> float:\n",
    "    no_substrings = 0\n",
    "    ONES = \"1\" * n\n",
    "    ZEROS = \"0\" * n\n",
    "    for _ in range(n_runs):\n",
    "        s = n_random_bits(N)\n",
    "        if ONES not in s and ZEROS not in s:\n",
    "            no_substrings += 1\n",
    "    return no_substrings / n_runs\n",
    "\n",
    "\n",
    "def brute_force(k: int, n: int) -> float:\n",
    "    no_substrings = 0\n",
    "    ONES = \"1\" * n\n",
    "    ZEROS = \"0\" * n\n",
    "    for digits in itertools.product(\"01\", repeat=k):\n",
    "        s = \"\".join(digits)\n",
    "        if ONES not in s and ZEROS not in s:\n",
    "            no_substrings += 1\n",
    "    return no_substrings"
   ]
  },
  {
   "cell_type": "code",
   "execution_count": null,
   "metadata": {},
   "outputs": [],
   "source": [
    "from functools import cache\n",
    "\n",
    "\n",
    "@cache\n",
    "def r(k, n, i):\n",
    "    if k == 0:\n",
    "        return 1\n",
    "    if i == n - 1:\n",
    "        return r(k - 1, n, 1)\n",
    "    return r(k - 1, n, 1) + r(k - 1, n, i + 1)\n",
    "\n",
    "\n",
    "def q(k, n):\n",
    "    return 2 * r(k - 1, n, 1)\n",
    "\n",
    "\n",
    "def prob_no_repeats(k, n) -> float:\n",
    "    return q(k, n) / 2**k"
   ]
  },
  {
   "cell_type": "code",
   "execution_count": null,
   "metadata": {},
   "outputs": [],
   "source": [
    "q(9, 4), brute_force(9, 4)"
   ]
  },
  {
   "cell_type": "code",
   "execution_count": null,
   "metadata": {},
   "outputs": [],
   "source": [
    "simulated_probability_no_n_len_substrings(100, 5, 100_000)"
   ]
  },
  {
   "cell_type": "code",
   "execution_count": null,
   "metadata": {},
   "outputs": [],
   "source": [
    "prob_no_repeats(100, 4)"
   ]
  },
  {
   "cell_type": "code",
   "execution_count": null,
   "metadata": {},
   "outputs": [],
   "source": [
    "prob_no_repeats(10, 10)"
   ]
  },
  {
   "cell_type": "code",
   "execution_count": null,
   "metadata": {},
   "outputs": [],
   "source": [
    "\n",
    "\n",
    "K = 30\n",
    "n_vals = list(range(2, K))\n",
    "\n",
    "probs = [prob_no_repeats(K, n) for n in n_vals]\n",
    "sims = [simulated_probability_no_n_len_substrings(K, n, 10000) for n in n_vals]\n",
    "\n",
    "fig = go.Figure()\n",
    "fig.add_trace(go.Scatter(x=n_vals, y=probs))\n",
    "fig.add_trace(go.Scatter(x=n_vals, y=sims))\n",
    "\n",
    "fig.show()\n",
    "\n",
    "# plt.plot(n_vals, probs, \".:\")\n",
    "# plt.grid()\n",
    "\n",
    "# plt.show()"
   ]
  }
 ],
 "metadata": {
  "kernelspec": {
   "display_name": "thevenv",
   "language": "python",
   "name": "python3"
  },
  "language_info": {
   "codemirror_mode": {
    "name": "ipython",
    "version": 3
   },
   "file_extension": ".py",
   "mimetype": "text/x-python",
   "name": "python",
   "nbconvert_exporter": "python",
   "pygments_lexer": "ipython3",
   "version": "3.13.0"
  },
  "orig_nbformat": 4
 },
 "nbformat": 4,
 "nbformat_minor": 2
}
